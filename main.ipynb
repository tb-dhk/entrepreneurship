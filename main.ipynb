{
 "cells": [
  {
   "cell_type": "code",
   "execution_count": null,
   "metadata": {
    "colab": {
     "base_uri": "https://localhost:8080/"
    },
    "execution": {},
    "id": "51NmN0hUaBge",
    "outputId": "d1c50273-cddc-4d50-9870-e60f3dc1c8f4"
   },
   "outputs": [],
   "source": [
    "!rm -rf *\n",
    "!git clone https://github.com/tb-dhk/entrepreneurship\n",
    "!pip install -r entrepreneurship/requirements.txt\n",
    "!rsync -av entrepreneurship/ ./"
   ]
  },
  {
   "cell_type": "code",
   "execution_count": null,
   "metadata": {
    "execution": {},
    "id": "FA3-EZIyQQV4"
   },
   "outputs": [],
   "source": [
    "!pip uninstall wandb -y"
   ]
  },
  {
   "cell_type": "code",
   "execution_count": null,
   "metadata": {
    "colab": {
     "base_uri": "https://localhost:8080/"
    },
    "id": "nXtuu3ee_RUj",
    "outputId": "b2b1857b-545b-4681-ccdc-734c16ee9685"
   },
   "outputs": [
    {
     "name": "stdout",
     "output_type": "stream",
     "text": []
    }
   ],
   "source": [
    "!python3 main.py"
   ]
  },
  {
   "cell_type": "code",
   "execution_count": null,
   "metadata": {},
   "outputs": [], 
   "source": [
    "import os\n",
    "import yaml\n",
    "from ultralytics import YOLO  # Assuming Ultralytics YOLOv8 library\n",
    "\n",
    "# Load the YAML configuration file\n",
    "with open('path/to/your/config.yaml', 'r') as file:\n",
    "    config = yaml.safe_load(file)\n",
    "\n",
    "# Extract test directories from the YAML file\n",
    "test_dirs = config['test']\n",
    "\n",
    "# Collect all image paths from the test directories\n",
    "image_paths = []\n",
    "for test_dir in test_dirs:\n",
    "    full_path = os.path.join('datasets/data', test_dir)\n",
    "    image_paths.extend([os.path.join(full_path, x) for x in os.listdir(full_path)])\n",
    "\n",
    "# Load the YOLO model\n",
    "model_weights = \"runs/detect/train/weights/best.pt\"\n",
    "model = YOLO(model_weights)\n",
    "\n",
    "# Perform inference on images\n",
    "results = model(image_paths)\n",
    "for result in results:\n",
    "    result.show()\n"
   ]
  }
 ],
 "metadata": {
  "colab": {
   "provenance": []
  },
  "kernelspec": {
   "display_name": "Python 3 (ipykernel)",
   "language": "python",
   "name": "python3"
  },
  "language_info": {
   "codemirror_mode": {
    "name": "ipython",
    "version": 3
   },
   "file_extension": ".py",
   "mimetype": "text/x-python",
   "name": "python",
   "nbconvert_exporter": "python",
   "pygments_lexer": "ipython3",
   "version": "3.10.12"
  }
 },
 "nbformat": 4,
 "nbformat_minor": 4
}
